{
 "cells": [
  {
   "cell_type": "code",
   "execution_count": 23,
   "metadata": {
    "collapsed": true
   },
   "outputs": [],
   "source": [
    "import numpy as np\n",
    "import pandas as pd\n",
    "import matplotlib.pyplot as plt\n",
    "from scipy.stats import poisson,skellam,itemfreq\n",
    "from datetime import datetime"
   ]
  },
  {
   "cell_type": "code",
   "execution_count": 24,
   "metadata": {
    "collapsed": true
   },
   "outputs": [],
   "source": [
    "# Getting the offensive and defensive scores for each team\n",
    "wc_forecasts=pd.read_csv('https://projects.fivethirtyeight.com/soccer-api/international/2018/wc_forecasts.csv')"
   ]
  },
  {
   "cell_type": "code",
   "execution_count": 25,
   "metadata": {
    "collapsed": true
   },
   "outputs": [],
   "source": [
    "# Converting the time stamp into datetime objects\n",
    "wc_forecasts['forecast_timestamp']=pd.to_datetime(wc_forecasts['forecast_timestamp'].str[:-3],format='%Y-%m-%d %H:%M:%S')"
   ]
  },
  {
   "cell_type": "code",
   "execution_count": 26,
   "metadata": {
    "collapsed": true
   },
   "outputs": [],
   "source": [
    "val=round((wc_forecasts['forecast_timestamp']-datetime.today()).dt.total_seconds()/(24*3600)).unique().max()"
   ]
  },
  {
   "cell_type": "code",
   "execution_count": 27,
   "metadata": {
    "collapsed": true
   },
   "outputs": [],
   "source": [
    "wc_forecasts['time_delta']=round((wc_forecasts['forecast_timestamp']-datetime.today()).dt.total_seconds()/(24*3600))"
   ]
  },
  {
   "cell_type": "code",
   "execution_count": 28,
   "metadata": {
    "collapsed": true
   },
   "outputs": [],
   "source": [
    "# Looking at the latest available values\n",
    "stats=wc_forecasts[wc_forecasts['time_delta']==val][['team','global_o','global_d']]"
   ]
  },
  {
   "cell_type": "code",
   "execution_count": 29,
   "metadata": {},
   "outputs": [
    {
     "data": {
      "text/html": [
       "<div>\n",
       "<style>\n",
       "    .dataframe thead tr:only-child th {\n",
       "        text-align: right;\n",
       "    }\n",
       "\n",
       "    .dataframe thead th {\n",
       "        text-align: left;\n",
       "    }\n",
       "\n",
       "    .dataframe tbody tr th {\n",
       "        vertical-align: top;\n",
       "    }\n",
       "</style>\n",
       "<table border=\"1\" class=\"dataframe\">\n",
       "  <thead>\n",
       "    <tr style=\"text-align: right;\">\n",
       "      <th></th>\n",
       "      <th>team</th>\n",
       "      <th>global_o</th>\n",
       "      <th>global_d</th>\n",
       "    </tr>\n",
       "  </thead>\n",
       "  <tbody>\n",
       "    <tr>\n",
       "      <th>0</th>\n",
       "      <td>Brazil</td>\n",
       "      <td>3.07097</td>\n",
       "      <td>0.28134</td>\n",
       "    </tr>\n",
       "    <tr>\n",
       "      <th>1</th>\n",
       "      <td>Spain</td>\n",
       "      <td>3.33909</td>\n",
       "      <td>0.52313</td>\n",
       "    </tr>\n",
       "    <tr>\n",
       "      <th>2</th>\n",
       "      <td>Belgium</td>\n",
       "      <td>2.91950</td>\n",
       "      <td>0.61759</td>\n",
       "    </tr>\n",
       "    <tr>\n",
       "      <th>3</th>\n",
       "      <td>England</td>\n",
       "      <td>2.44525</td>\n",
       "      <td>0.49344</td>\n",
       "    </tr>\n",
       "    <tr>\n",
       "      <th>4</th>\n",
       "      <td>France</td>\n",
       "      <td>2.62942</td>\n",
       "      <td>0.50813</td>\n",
       "    </tr>\n",
       "  </tbody>\n",
       "</table>\n",
       "</div>"
      ],
      "text/plain": [
       "      team  global_o  global_d\n",
       "0   Brazil   3.07097   0.28134\n",
       "1    Spain   3.33909   0.52313\n",
       "2  Belgium   2.91950   0.61759\n",
       "3  England   2.44525   0.49344\n",
       "4   France   2.62942   0.50813"
      ]
     },
     "execution_count": 29,
     "metadata": {},
     "output_type": "execute_result"
    }
   ],
   "source": [
    "# Looking at the values e.g. Brazil has 3.08 offensive score which means on average Brazil scores 3.08 goals versus an an average\n",
    "# team and concedes 0.28 goals against an average team\n",
    "stats.head()"
   ]
  },
  {
   "cell_type": "code",
   "execution_count": 30,
   "metadata": {
    "collapsed": true
   },
   "outputs": [],
   "source": [
    "# We are going to generate goals scored by each team in a match using effective offensive score i.e. global_o minus global_d and simulate the end result by using poisson difference distribution \n",
    "# and then generate win probabilities\n",
    "def generate_prob(lst):\n",
    "    team1=stats[stats.team==lst[0]].loc[:,'global_o'].values[0]-stats[stats.team==lst[0]].loc[:,'global_d'].values[0]\n",
    "    team2=stats[stats.team==lst[1]].loc[:,'global_o'].values[0]-stats[stats.team==lst[1]].loc[:,'global_d'].values[0]\n",
    "    team1p=[skellam.pmf(i,team1,team2) for i in range(1,100)]\n",
    "    team2p=[skellam.pmf(-i,team1,team2) for i in range(1,100)]\n",
    "    \n",
    "    tie_prob=skellam.pmf(0,team1,team2)\n",
    "    team1p_tie=[skellam.pmf(i,team1/3,team2/3) for i in range(1,100)]\n",
    "    team2p_tie=[skellam.pmf(-i,team1/3,team2/3) for i in range(1,100)]\n",
    "    \n",
    "    prob1=sum(team1p)+tie_prob*(sum(team1p_tie)+skellam.pmf(0,team1/3,team2/3)*0.5)\n",
    "    prob2=sum(team2p)+tie_prob*(sum(team2p_tie)+skellam.pmf(0,team1/3,team2/3)*0.5)\n",
    "    \n",
    "    return [prob1/(prob1+prob2),prob2/(prob1+prob2)]"
   ]
  },
  {
   "cell_type": "code",
   "execution_count": 31,
   "metadata": {
    "collapsed": true
   },
   "outputs": [],
   "source": [
    "# Setting up the teams for pre quarterfinal matches and then running Monte Carlo simulations to generate expected teams who will\n",
    "# the semi finals as well as making the finals\n",
    "match1=['Uruguay','Portugal']\n",
    "prob1=generate_prob(match1)\n",
    "\n",
    "match2=['France','Argentina']\n",
    "prob2=generate_prob(match2)\n",
    "\n",
    "match3=['Brazil','Mexico']\n",
    "prob3=generate_prob(match3)\n",
    "\n",
    "match4=['Belgium','Japan']\n",
    "prob4=generate_prob(match4)\n",
    "\n",
    "match5=['Russia','Spain']\n",
    "prob5=generate_prob(match5)\n",
    "\n",
    "match6=['Denmark','Croatia']\n",
    "prob6=generate_prob(match6)\n",
    "\n",
    "match7=['Switzerland','Sweden']\n",
    "prob7=generate_prob(match7)\n",
    "\n",
    "match8=['England','Colombia']\n",
    "prob8=generate_prob(match8)"
   ]
  },
  {
   "cell_type": "code",
   "execution_count": 32,
   "metadata": {
    "collapsed": true
   },
   "outputs": [],
   "source": [
    "lst=[(match1,prob1),(match2,prob2),(match3,prob3),(match4,prob4),(match5,prob5),(match6,prob6),(match7,prob7),(match8,prob8)]"
   ]
  },
  {
   "cell_type": "code",
   "execution_count": 33,
   "metadata": {},
   "outputs": [
    {
     "name": "stdout",
     "output_type": "stream",
     "text": [
      "Probability for Uruguay win: 0.480303009940984\n",
      "Probability for Portugal win: 0.519696990059016\n",
      "----------------------------------------------\n",
      "Probability for France win: 0.5188555589796385\n",
      "Probability for Argentina win: 0.4811444410203614\n",
      "----------------------------------------------\n",
      "Probability for Brazil win: 0.7703002682738505\n",
      "Probability for Mexico win: 0.22969973172614952\n",
      "----------------------------------------------\n",
      "Probability for Belgium win: 0.7278631712049775\n",
      "Probability for Japan win: 0.2721368287950226\n",
      "----------------------------------------------\n",
      "Probability for Russia win: 0.17472553581260475\n",
      "Probability for Spain win: 0.8252744641873953\n",
      "----------------------------------------------\n",
      "Probability for Denmark win: 0.3623866098119792\n",
      "Probability for Croatia win: 0.6376133901880209\n",
      "----------------------------------------------\n",
      "Probability for Switzerland win: 0.5363534763950117\n",
      "Probability for Sweden win: 0.46364652360498837\n",
      "----------------------------------------------\n",
      "Probability for England win: 0.5696905148140655\n",
      "Probability for Colombia win: 0.43030948518593454\n",
      "----------------------------------------------\n"
     ]
    }
   ],
   "source": [
    "# Expected win probabilities for the pre quarter-final matches\n",
    "for match,prob in lst:\n",
    "    print(\"Probability for {} win: {}\".format(match[0],prob[0]))\n",
    "    print(\"Probability for {} win: {}\".format(match[1],prob[1]))\n",
    "    print(\"----------------------------------------------\")"
   ]
  },
  {
   "cell_type": "code",
   "execution_count": 34,
   "metadata": {
    "collapsed": true
   },
   "outputs": [],
   "source": [
    "quarterfinal_simulations=[]\n",
    "semifinal_simulations=[]\n",
    "finals_simulations=[]\n",
    "winner=[]\n",
    "sims=50000"
   ]
  },
  {
   "cell_type": "code",
   "execution_count": 35,
   "metadata": {},
   "outputs": [
    {
     "name": "stdout",
     "output_type": "stream",
     "text": [
      "Simulation #  1000\n",
      "Simulation #  2000\n",
      "Simulation #  3000\n",
      "Simulation #  4000\n",
      "Simulation #  5000\n",
      "Simulation #  6000\n",
      "Simulation #  7000\n",
      "Simulation #  8000\n",
      "Simulation #  9000\n",
      "Simulation #  10000\n",
      "Simulation #  11000\n",
      "Simulation #  12000\n",
      "Simulation #  13000\n",
      "Simulation #  14000\n",
      "Simulation #  15000\n",
      "Simulation #  16000\n",
      "Simulation #  17000\n",
      "Simulation #  18000\n",
      "Simulation #  19000\n",
      "Simulation #  20000\n",
      "Simulation #  21000\n",
      "Simulation #  22000\n",
      "Simulation #  23000\n",
      "Simulation #  24000\n",
      "Simulation #  25000\n",
      "Simulation #  26000\n",
      "Simulation #  27000\n",
      "Simulation #  28000\n",
      "Simulation #  29000\n",
      "Simulation #  30000\n",
      "Simulation #  31000\n",
      "Simulation #  32000\n",
      "Simulation #  33000\n",
      "Simulation #  34000\n",
      "Simulation #  35000\n",
      "Simulation #  36000\n",
      "Simulation #  37000\n",
      "Simulation #  38000\n",
      "Simulation #  39000\n",
      "Simulation #  40000\n",
      "Simulation #  41000\n",
      "Simulation #  42000\n",
      "Simulation #  43000\n",
      "Simulation #  44000\n",
      "Simulation #  45000\n",
      "Simulation #  46000\n",
      "Simulation #  47000\n",
      "Simulation #  48000\n",
      "Simulation #  49000\n",
      "Simulation #  50000\n",
      "Simulation #  51000\n",
      "Simulation #  52000\n",
      "Simulation #  53000\n",
      "Simulation #  54000\n",
      "Simulation #  55000\n",
      "Simulation #  56000\n",
      "Simulation #  57000\n",
      "Simulation #  58000\n",
      "Simulation #  59000\n",
      "Simulation #  60000\n",
      "Simulation #  61000\n",
      "Simulation #  62000\n",
      "Simulation #  63000\n",
      "Simulation #  64000\n",
      "Simulation #  65000\n",
      "Simulation #  66000\n",
      "Simulation #  67000\n",
      "Simulation #  68000\n",
      "Simulation #  69000\n",
      "Simulation #  70000\n",
      "Simulation #  71000\n",
      "Simulation #  72000\n"
     ]
    },
    {
     "ename": "KeyboardInterrupt",
     "evalue": "",
     "output_type": "error",
     "traceback": [
      "\u001b[1;31m---------------------------------------------------------------------------\u001b[0m",
      "\u001b[1;31mKeyboardInterrupt\u001b[0m                         Traceback (most recent call last)",
      "\u001b[1;32m<ipython-input-35-d93965c226b9>\u001b[0m in \u001b[0;36m<module>\u001b[1;34m()\u001b[0m\n\u001b[0;32m     10\u001b[0m                                      np.random.choice(quarter_finals[3],p=generate_prob(quarter_finals[3]))]]\n\u001b[0;32m     11\u001b[0m     \u001b[0msemifinal_simulations\u001b[0m\u001b[1;33m.\u001b[0m\u001b[0mappend\u001b[0m\u001b[1;33m(\u001b[0m\u001b[0msemi_finals\u001b[0m\u001b[1;33m)\u001b[0m\u001b[1;33m\u001b[0m\u001b[0m\n\u001b[1;32m---> 12\u001b[1;33m     finals=[np.random.choice(semi_finals[0],p=generate_prob(semi_finals[0])),\n\u001b[0m\u001b[0;32m     13\u001b[0m                                      np.random.choice(semi_finals[1],p=generate_prob(semi_finals[1]))]\n\u001b[0;32m     14\u001b[0m     \u001b[0mfinals_simulations\u001b[0m\u001b[1;33m.\u001b[0m\u001b[0mappend\u001b[0m\u001b[1;33m(\u001b[0m\u001b[0mfinals\u001b[0m\u001b[1;33m)\u001b[0m\u001b[1;33m\u001b[0m\u001b[0m\n",
      "\u001b[1;32m<ipython-input-30-b1fba019a7e8>\u001b[0m in \u001b[0;36mgenerate_prob\u001b[1;34m(lst)\u001b[0m\n\u001b[0;32m      8\u001b[0m \u001b[1;33m\u001b[0m\u001b[0m\n\u001b[0;32m      9\u001b[0m     \u001b[0mtie_prob\u001b[0m\u001b[1;33m=\u001b[0m\u001b[0mskellam\u001b[0m\u001b[1;33m.\u001b[0m\u001b[0mpmf\u001b[0m\u001b[1;33m(\u001b[0m\u001b[1;36m0\u001b[0m\u001b[1;33m,\u001b[0m\u001b[0mteam1\u001b[0m\u001b[1;33m,\u001b[0m\u001b[0mteam2\u001b[0m\u001b[1;33m)\u001b[0m\u001b[1;33m\u001b[0m\u001b[0m\n\u001b[1;32m---> 10\u001b[1;33m     \u001b[0mteam1p_tie\u001b[0m\u001b[1;33m=\u001b[0m\u001b[1;33m[\u001b[0m\u001b[0mskellam\u001b[0m\u001b[1;33m.\u001b[0m\u001b[0mpmf\u001b[0m\u001b[1;33m(\u001b[0m\u001b[0mi\u001b[0m\u001b[1;33m,\u001b[0m\u001b[0mteam1\u001b[0m\u001b[1;33m/\u001b[0m\u001b[1;36m3\u001b[0m\u001b[1;33m,\u001b[0m\u001b[0mteam2\u001b[0m\u001b[1;33m/\u001b[0m\u001b[1;36m3\u001b[0m\u001b[1;33m)\u001b[0m \u001b[1;32mfor\u001b[0m \u001b[0mi\u001b[0m \u001b[1;32min\u001b[0m \u001b[0mrange\u001b[0m\u001b[1;33m(\u001b[0m\u001b[1;36m1\u001b[0m\u001b[1;33m,\u001b[0m\u001b[1;36m100\u001b[0m\u001b[1;33m)\u001b[0m\u001b[1;33m]\u001b[0m\u001b[1;33m\u001b[0m\u001b[0m\n\u001b[0m\u001b[0;32m     11\u001b[0m     \u001b[0mteam2p_tie\u001b[0m\u001b[1;33m=\u001b[0m\u001b[1;33m[\u001b[0m\u001b[0mskellam\u001b[0m\u001b[1;33m.\u001b[0m\u001b[0mpmf\u001b[0m\u001b[1;33m(\u001b[0m\u001b[1;33m-\u001b[0m\u001b[0mi\u001b[0m\u001b[1;33m,\u001b[0m\u001b[0mteam1\u001b[0m\u001b[1;33m/\u001b[0m\u001b[1;36m3\u001b[0m\u001b[1;33m,\u001b[0m\u001b[0mteam2\u001b[0m\u001b[1;33m/\u001b[0m\u001b[1;36m3\u001b[0m\u001b[1;33m)\u001b[0m \u001b[1;32mfor\u001b[0m \u001b[0mi\u001b[0m \u001b[1;32min\u001b[0m \u001b[0mrange\u001b[0m\u001b[1;33m(\u001b[0m\u001b[1;36m1\u001b[0m\u001b[1;33m,\u001b[0m\u001b[1;36m100\u001b[0m\u001b[1;33m)\u001b[0m\u001b[1;33m]\u001b[0m\u001b[1;33m\u001b[0m\u001b[0m\n\u001b[0;32m     12\u001b[0m \u001b[1;33m\u001b[0m\u001b[0m\n",
      "\u001b[1;32m<ipython-input-30-b1fba019a7e8>\u001b[0m in \u001b[0;36m<listcomp>\u001b[1;34m(.0)\u001b[0m\n\u001b[0;32m      8\u001b[0m \u001b[1;33m\u001b[0m\u001b[0m\n\u001b[0;32m      9\u001b[0m     \u001b[0mtie_prob\u001b[0m\u001b[1;33m=\u001b[0m\u001b[0mskellam\u001b[0m\u001b[1;33m.\u001b[0m\u001b[0mpmf\u001b[0m\u001b[1;33m(\u001b[0m\u001b[1;36m0\u001b[0m\u001b[1;33m,\u001b[0m\u001b[0mteam1\u001b[0m\u001b[1;33m,\u001b[0m\u001b[0mteam2\u001b[0m\u001b[1;33m)\u001b[0m\u001b[1;33m\u001b[0m\u001b[0m\n\u001b[1;32m---> 10\u001b[1;33m     \u001b[0mteam1p_tie\u001b[0m\u001b[1;33m=\u001b[0m\u001b[1;33m[\u001b[0m\u001b[0mskellam\u001b[0m\u001b[1;33m.\u001b[0m\u001b[0mpmf\u001b[0m\u001b[1;33m(\u001b[0m\u001b[0mi\u001b[0m\u001b[1;33m,\u001b[0m\u001b[0mteam1\u001b[0m\u001b[1;33m/\u001b[0m\u001b[1;36m3\u001b[0m\u001b[1;33m,\u001b[0m\u001b[0mteam2\u001b[0m\u001b[1;33m/\u001b[0m\u001b[1;36m3\u001b[0m\u001b[1;33m)\u001b[0m \u001b[1;32mfor\u001b[0m \u001b[0mi\u001b[0m \u001b[1;32min\u001b[0m \u001b[0mrange\u001b[0m\u001b[1;33m(\u001b[0m\u001b[1;36m1\u001b[0m\u001b[1;33m,\u001b[0m\u001b[1;36m100\u001b[0m\u001b[1;33m)\u001b[0m\u001b[1;33m]\u001b[0m\u001b[1;33m\u001b[0m\u001b[0m\n\u001b[0m\u001b[0;32m     11\u001b[0m     \u001b[0mteam2p_tie\u001b[0m\u001b[1;33m=\u001b[0m\u001b[1;33m[\u001b[0m\u001b[0mskellam\u001b[0m\u001b[1;33m.\u001b[0m\u001b[0mpmf\u001b[0m\u001b[1;33m(\u001b[0m\u001b[1;33m-\u001b[0m\u001b[0mi\u001b[0m\u001b[1;33m,\u001b[0m\u001b[0mteam1\u001b[0m\u001b[1;33m/\u001b[0m\u001b[1;36m3\u001b[0m\u001b[1;33m,\u001b[0m\u001b[0mteam2\u001b[0m\u001b[1;33m/\u001b[0m\u001b[1;36m3\u001b[0m\u001b[1;33m)\u001b[0m \u001b[1;32mfor\u001b[0m \u001b[0mi\u001b[0m \u001b[1;32min\u001b[0m \u001b[0mrange\u001b[0m\u001b[1;33m(\u001b[0m\u001b[1;36m1\u001b[0m\u001b[1;33m,\u001b[0m\u001b[1;36m100\u001b[0m\u001b[1;33m)\u001b[0m\u001b[1;33m]\u001b[0m\u001b[1;33m\u001b[0m\u001b[0m\n\u001b[0;32m     12\u001b[0m \u001b[1;33m\u001b[0m\u001b[0m\n",
      "\u001b[1;32m~\\Anaconda3\\lib\\site-packages\\scipy\\stats\\_distn_infrastructure.py\u001b[0m in \u001b[0;36mpmf\u001b[1;34m(self, k, *args, **kwds)\u001b[0m\n\u001b[0;32m   2837\u001b[0m         \u001b[0mcond\u001b[0m \u001b[1;33m=\u001b[0m \u001b[0mcond0\u001b[0m \u001b[1;33m&\u001b[0m \u001b[0mcond1\u001b[0m\u001b[1;33m\u001b[0m\u001b[0m\n\u001b[0;32m   2838\u001b[0m         \u001b[0moutput\u001b[0m \u001b[1;33m=\u001b[0m \u001b[0mzeros\u001b[0m\u001b[1;33m(\u001b[0m\u001b[0mshape\u001b[0m\u001b[1;33m(\u001b[0m\u001b[0mcond\u001b[0m\u001b[1;33m)\u001b[0m\u001b[1;33m,\u001b[0m \u001b[1;34m'd'\u001b[0m\u001b[1;33m)\u001b[0m\u001b[1;33m\u001b[0m\u001b[0m\n\u001b[1;32m-> 2839\u001b[1;33m         \u001b[0mplace\u001b[0m\u001b[1;33m(\u001b[0m\u001b[0moutput\u001b[0m\u001b[1;33m,\u001b[0m \u001b[1;33m(\u001b[0m\u001b[1;36m1\u001b[0m\u001b[1;33m-\u001b[0m\u001b[0mcond0\u001b[0m\u001b[1;33m)\u001b[0m \u001b[1;33m+\u001b[0m \u001b[0mnp\u001b[0m\u001b[1;33m.\u001b[0m\u001b[0misnan\u001b[0m\u001b[1;33m(\u001b[0m\u001b[0mk\u001b[0m\u001b[1;33m)\u001b[0m\u001b[1;33m,\u001b[0m \u001b[0mself\u001b[0m\u001b[1;33m.\u001b[0m\u001b[0mbadvalue\u001b[0m\u001b[1;33m)\u001b[0m\u001b[1;33m\u001b[0m\u001b[0m\n\u001b[0m\u001b[0;32m   2840\u001b[0m         \u001b[1;32mif\u001b[0m \u001b[0mnp\u001b[0m\u001b[1;33m.\u001b[0m\u001b[0many\u001b[0m\u001b[1;33m(\u001b[0m\u001b[0mcond\u001b[0m\u001b[1;33m)\u001b[0m\u001b[1;33m:\u001b[0m\u001b[1;33m\u001b[0m\u001b[0m\n\u001b[0;32m   2841\u001b[0m             \u001b[0mgoodargs\u001b[0m \u001b[1;33m=\u001b[0m \u001b[0margsreduce\u001b[0m\u001b[1;33m(\u001b[0m\u001b[0mcond\u001b[0m\u001b[1;33m,\u001b[0m \u001b[1;33m*\u001b[0m\u001b[1;33m(\u001b[0m\u001b[1;33m(\u001b[0m\u001b[0mk\u001b[0m\u001b[1;33m,\u001b[0m\u001b[1;33m)\u001b[0m\u001b[1;33m+\u001b[0m\u001b[0margs\u001b[0m\u001b[1;33m)\u001b[0m\u001b[1;33m)\u001b[0m\u001b[1;33m\u001b[0m\u001b[0m\n",
      "\u001b[1;31mKeyboardInterrupt\u001b[0m: "
     ]
    }
   ],
   "source": [
    "for sim in range(sims):\n",
    "    quarter_finals=[]\n",
    "    semi_finals=[]\n",
    "    for i in range(4):\n",
    "        quarter_finals.append([np.random.choice(lst[i*2][0],p=lst[i*2][1]),np.random.choice(lst[i*2+1][0],p=lst[i*2+1][1])])\n",
    "    quarterfinal_simulations.append(quarter_finals)\n",
    "    semi_finals=[[np.random.choice(quarter_finals[0],p=generate_prob(quarter_finals[0])),\n",
    "                                     np.random.choice(quarter_finals[1],p=generate_prob(quarter_finals[1]))],\n",
    "                                    [np.random.choice(quarter_finals[2],p=generate_prob(quarter_finals[2])),\n",
    "                                     np.random.choice(quarter_finals[3],p=generate_prob(quarter_finals[3]))]]\n",
    "    semifinal_simulations.append(semi_finals)\n",
    "    finals=[np.random.choice(semi_finals[0],p=generate_prob(semi_finals[0])),\n",
    "                                     np.random.choice(semi_finals[1],p=generate_prob(semi_finals[1]))]\n",
    "    finals_simulations.append(finals)\n",
    "    winner.append(np.random.choice(finals,p=generate_prob(finals)))\n",
    "    if (sim%10000==0)&(sim!=0):\n",
    "        print('Simulation # ',sim)"
   ]
  },
  {
   "cell_type": "code",
   "execution_count": 36,
   "metadata": {},
   "outputs": [
    {
     "name": "stderr",
     "output_type": "stream",
     "text": [
      "C:\\Users\\sanesanyo\\Anaconda3\\lib\\site-packages\\ipykernel_launcher.py:1: DeprecationWarning: `itemfreq` is deprecated!\n",
      "`itemfreq` is deprecated and will be removed in a future version. Use instead `np.unique(..., return_counts=True)`\n",
      "  \"\"\"Entry point for launching an IPython kernel.\n"
     ]
    }
   ],
   "source": [
    "winner_freq=sorted(list(map(lambda x:[x[0],int(x[1])],itemfreq(winner))),key= lambda x:x[1],reverse=True)"
   ]
  },
  {
   "cell_type": "code",
   "execution_count": 37,
   "metadata": {},
   "outputs": [
    {
     "name": "stdout",
     "output_type": "stream",
     "text": [
      "Expected Winner:Spain winning 18684 of 500000 simulations\n"
     ]
    }
   ],
   "source": [
    "# Expected Winner\n",
    "print('Expected Winner:{} winning {} of {} simulations'.format(winner_freq[0][0],winner_freq[0][1],sims))"
   ]
  },
  {
   "cell_type": "code",
   "execution_count": 38,
   "metadata": {},
   "outputs": [
    {
     "name": "stdout",
     "output_type": "stream",
     "text": [
      "Expected Runner Up Winner:Brazil winning 14531 of 500000 simulations\n"
     ]
    }
   ],
   "source": [
    "# Expected Runnerup\n",
    "print('Expected Runner Up Winner:{} winning {} of {} simulations'.format(winner_freq[1][0],winner_freq[1][1],sims))"
   ]
  },
  {
   "cell_type": "code",
   "execution_count": 39,
   "metadata": {
    "collapsed": true
   },
   "outputs": [],
   "source": [
    "semifinal1=list(map(lambda x:x[0][0],semifinal_simulations))\n",
    "semifinal2=list(map(lambda x:x[0][1],semifinal_simulations))\n",
    "semifinal3=list(map(lambda x:x[1][0],semifinal_simulations))\n",
    "semifinal4=list(map(lambda x:x[1][1],semifinal_simulations))"
   ]
  },
  {
   "cell_type": "code",
   "execution_count": 40,
   "metadata": {},
   "outputs": [
    {
     "name": "stderr",
     "output_type": "stream",
     "text": [
      "C:\\Users\\sanesanyo\\Anaconda3\\lib\\site-packages\\ipykernel_launcher.py:1: DeprecationWarning: `itemfreq` is deprecated!\n",
      "`itemfreq` is deprecated and will be removed in a future version. Use instead `np.unique(..., return_counts=True)`\n",
      "  \"\"\"Entry point for launching an IPython kernel.\n",
      "C:\\Users\\sanesanyo\\Anaconda3\\lib\\site-packages\\ipykernel_launcher.py:2: DeprecationWarning: `itemfreq` is deprecated!\n",
      "`itemfreq` is deprecated and will be removed in a future version. Use instead `np.unique(..., return_counts=True)`\n",
      "  \n",
      "C:\\Users\\sanesanyo\\Anaconda3\\lib\\site-packages\\ipykernel_launcher.py:3: DeprecationWarning: `itemfreq` is deprecated!\n",
      "`itemfreq` is deprecated and will be removed in a future version. Use instead `np.unique(..., return_counts=True)`\n",
      "  This is separate from the ipykernel package so we can avoid doing imports until\n",
      "C:\\Users\\sanesanyo\\Anaconda3\\lib\\site-packages\\ipykernel_launcher.py:4: DeprecationWarning: `itemfreq` is deprecated!\n",
      "`itemfreq` is deprecated and will be removed in a future version. Use instead `np.unique(..., return_counts=True)`\n",
      "  after removing the cwd from sys.path.\n"
     ]
    }
   ],
   "source": [
    "winner_freq1=sorted(map(lambda x:[x[0],int(x[1])],itemfreq(semifinal1)),key= lambda x:x[1],reverse=True)\n",
    "winner_freq2=sorted(map(lambda x:[x[0],int(x[1])],itemfreq(semifinal2)),key= lambda x:x[1],reverse=True)\n",
    "winner_freq3=sorted(map(lambda x:[x[0],int(x[1])],itemfreq(semifinal3)),key= lambda x:x[1],reverse=True)\n",
    "winner_freq4=sorted(map(lambda x:[x[0],int(x[1])],itemfreq(semifinal4)),key= lambda x:x[1],reverse=True)"
   ]
  },
  {
   "cell_type": "code",
   "execution_count": 41,
   "metadata": {},
   "outputs": [
    {
     "data": {
      "text/plain": [
       "[['France', 20941],\n",
       " ['Argentina', 18922],\n",
       " ['Portugal', 17084],\n",
       " ['Uruguay', 15123]]"
      ]
     },
     "execution_count": 41,
     "metadata": {},
     "output_type": "execute_result"
    }
   ],
   "source": [
    "# Expected Semifinalists for Semi Final #1\n",
    "winner_freq1"
   ]
  },
  {
   "cell_type": "code",
   "execution_count": 42,
   "metadata": {},
   "outputs": [
    {
     "data": {
      "text/plain": [
       "[['Brazil', 35808], ['Belgium', 25063], ['Mexico', 6155], ['Japan', 5044]]"
      ]
     },
     "execution_count": 42,
     "metadata": {},
     "output_type": "execute_result"
    }
   ],
   "source": [
    "# Expected Semifinalist for Semi Final #2\n",
    "winner_freq2"
   ]
  },
  {
   "cell_type": "code",
   "execution_count": 43,
   "metadata": {},
   "outputs": [
    {
     "data": {
      "text/plain": [
       "[['Spain', 43239], ['Croatia', 17215], ['Denmark', 6868], ['Russia', 4748]]"
      ]
     },
     "execution_count": 43,
     "metadata": {},
     "output_type": "execute_result"
    }
   ],
   "source": [
    "# Expected Semifinalist for Semi Final #2\n",
    "winner_freq3"
   ]
  },
  {
   "cell_type": "code",
   "execution_count": 44,
   "metadata": {},
   "outputs": [
    {
     "data": {
      "text/plain": [
       "[['England', 24232],\n",
       " ['Switzerland', 17715],\n",
       " ['Colombia', 16173],\n",
       " ['Sweden', 13950]]"
      ]
     },
     "execution_count": 44,
     "metadata": {},
     "output_type": "execute_result"
    }
   ],
   "source": [
    "# Expected Semifinalist for Semi Final #2\n",
    "winner_freq4"
   ]
  },
  {
   "cell_type": "code",
   "execution_count": null,
   "metadata": {
    "collapsed": true
   },
   "outputs": [],
   "source": []
  }
 ],
 "metadata": {
  "anaconda-cloud": {},
  "kernelspec": {
   "display_name": "Python 3",
   "language": "python",
   "name": "python3"
  },
  "language_info": {
   "codemirror_mode": {
    "name": "ipython",
    "version": 3
   },
   "file_extension": ".py",
   "mimetype": "text/x-python",
   "name": "python",
   "nbconvert_exporter": "python",
   "pygments_lexer": "ipython3",
   "version": "3.6.3"
  }
 },
 "nbformat": 4,
 "nbformat_minor": 2
}
